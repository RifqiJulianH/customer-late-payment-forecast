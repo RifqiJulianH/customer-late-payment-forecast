{
  "nbformat": 4,
  "nbformat_minor": 0,
  "metadata": {
    "colab": {
      "provenance": []
    },
    "kernelspec": {
      "name": "python3",
      "display_name": "Python 3"
    },
    "language_info": {
      "name": "python"
    }
  },
  "cells": [
    {
      "cell_type": "code",
      "execution_count": 1,
      "metadata": {
        "id": "gO59tLOfDPpO"
      },
      "outputs": [],
      "source": [
        "import pickle\n",
        "import pandas as pd"
      ]
    },
    {
      "cell_type": "code",
      "source": [
        "  logreg_=pickle.load(open('ModelM1_logreg.pkl','rb'))\n",
        "  Dengan_tuning=pickle.load(open('ModelM1_TuningCV.pkl','rb'))"
      ],
      "metadata": {
        "id": "ohLPDj6IDkFr"
      },
      "execution_count": 2,
      "outputs": []
    },
    {
      "cell_type": "code",
      "source": [
        "#Bikin data dummy\n",
        "\n",
        "Data = {\n",
        "  'limit_balance': [80000.0,200000.0,260000.0],\n",
        "  'pay_0':[-1,-2,0],\n",
        "  'pay_2':[2,2,8],\n",
        "  'pay_3':[1,0,2],\n",
        "  'pay_4':[0,0,0],\n",
        "  'pay_5':[-1,-1,-1],\n",
        "  'pay_6':[2,2,1]\n",
        "}\n",
        "\n",
        "#DF baru\n",
        "Data = pd.DataFrame(Data)"
      ],
      "metadata": {
        "id": "VGL9RXIND8Pc"
      },
      "execution_count": 3,
      "outputs": []
    },
    {
      "cell_type": "code",
      "source": [
        "logreg_.predict(Data)\n"
      ],
      "metadata": {
        "colab": {
          "base_uri": "https://localhost:8080/"
        },
        "id": "G1PxWr7nFNVn",
        "outputId": "4495bdbb-6a53-4cc6-a1f1-f2caf30631ff"
      },
      "execution_count": 4,
      "outputs": [
        {
          "output_type": "execute_result",
          "data": {
            "text/plain": [
              "array([0., 0., 0.])"
            ]
          },
          "metadata": {},
          "execution_count": 4
        }
      ]
    },
    {
      "cell_type": "code",
      "source": [
        "Dengan_tuning.predict(Data)"
      ],
      "metadata": {
        "colab": {
          "base_uri": "https://localhost:8080/"
        },
        "id": "WLGccJ-iFTm_",
        "outputId": "dbd1babd-96f1-4c9c-e243-e9c7d6907a9c"
      },
      "execution_count": 5,
      "outputs": [
        {
          "output_type": "stream",
          "name": "stderr",
          "text": [
            "/usr/local/lib/python3.10/dist-packages/sklearn/base.py:439: UserWarning: X does not have valid feature names, but LogisticRegression was fitted with feature names\n",
            "  warnings.warn(\n"
          ]
        },
        {
          "output_type": "execute_result",
          "data": {
            "text/plain": [
              "array([0., 0., 0.])"
            ]
          },
          "metadata": {},
          "execution_count": 5
        }
      ]
    }
  ]
}